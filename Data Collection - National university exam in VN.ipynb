{
 "cells": [
  {
   "cell_type": "code",
   "execution_count": 1,
   "metadata": {},
   "outputs": [],
   "source": [
    "#open terminal \n",
    "# Type curl -F \"sobaodanh=02074718\" diemthi.hcm.edu.vn/Home/Show\n",
    "import subprocess\n",
    "import os\n",
    "import pandas as pd\n",
    "import html"
   ]
  },
  {
   "cell_type": "code",
   "execution_count": 2,
   "metadata": {
    "scrolled": true
   },
   "outputs": [
    {
     "name": "stdout",
     "output_type": "stream",
     "text": [
      "b'<!DOCTYPE html>\\n<html>\\n<head>\\n    <meta charset=\"utf-8\" />\\n    <meta name=\"viewport\" content=\"width=device-width, initial-scale=1.0\">\\n    <title>Show - S\\xe1\\xbb\\x9f Gi\\xc3\\xa1o d\\xe1\\xbb\\xa5c v\\xc3\\xa0 \\xc4\\x90\\xc3\\xa0o t\\xe1\\xba\\xa1o TP HCM</title>\\n    <link href=\"/Content/css?v=Xso9L40tE7BMv39QjIwZA-y7XWNRBA0m2c4mZornwBo1\" rel=\"stylesheet\"/>\\r\\n\\n    <script src=\"/bundles/modernizr?v=wBEWDufH_8Md-Pbioxomt90vm6tJN2Pyy9u9zHtWsPo1\"></script>\\r\\n\\n    <script src=\"/bundles/jquery?v=FVs3ACwOLIVInrAl5sdzR2jrCDmVOWFbZMY6g6Q0ulE1\"></script>\\r\\n\\n    <script src=\"/bundles/bootstrap?v=2Fz3B0iizV2NnnamQFrx-NbYJNTFeBJ2GM05SilbtQU1\"></script>\\r\\n\\n    <script src=\"/bundles/jqueryui\"></script>\\r\\n\\n    <link href=\"/bundles/fonts\" rel=\"stylesheet\"/>\\r\\n\\n   \\r\\n</head>\\r\\n<body>\\r\\n    <nav class=\"navbar navbar-inverse\">\\r\\n        <div class=\"container-fluid\">\\r\\n            <div class=\"navbar-header\">\\r\\n                <img style=\"float:left\" src=\"/Images/Logo_so.png\" width=\"85\" />\\r\\n<div>\\r\\n <label style=\"margin-top: 12px; color: #eeeeee ; font-size: x-large\">TRA C\\xe1\\xbb\\xa8U \\xc4\\x90I\\xe1\\xbb\\x82M</label>   \\r\\n\\t\\t<label style=\"color: #eeeeee ; font-size: medium \">K\\xe1\\xbb\\xb2 THI T\\xe1\\xbb\\x90T NGHI\\xe1\\xbb\\x86P TRUNG H\\xe1\\xbb\\x8cC PH\\xe1\\xbb\\x94 TH\\xc3\\x94NG 2020</label>\\r\\n               \\r\\n               \\r\\n</div>\\r\\n               \\r\\n            </div>\\r\\n           \\r\\n        </div>\\r\\n    </nav>\\r\\n    \\r\\n   \\n    <div class=\"container body-content\" style=\"margin-top:50px\">\\n        \\r\\n\\r\\n\\r\\n\\r\\n\\r\\n    <table style=\"margin-top:50px; border: 1px solid; width:100%\">\\r\\n        <tr>\\r\\n            <td style=\"border: 1px solid ; font-weight: bold \">\\r\\n                H\\xe1\\xbb\\x8d v\\xc3\\xa0 T\\xc3\\xaan\\r\\n            </td>\\r\\n            <td style=\"border: 1px solid ; font-weight: bold\">\\r\\n                Ng\\xc3\\xa0y sinh\\r\\n            </td>\\r\\n            <td style=\"border: 1px solid ; font-weight: bold\">\\r\\n                \\xc4\\x90i\\xe1\\xbb\\x83m thi\\r\\n            </td>\\r\\n           \\r\\n\\r\\n        </tr>\\r\\n\\r\\n        <tr>\\r\\n            <td style=\"border: 1px solid\">\\r\\n                PH\\xe1\\xba\\xa0M HO&#192;NG H\\xc6\\xaf\\xc6\\xa0NG &#193;I\\r\\n            </td>\\r\\n            <td style=\"border: 1px solid\">\\r\\n                04/11/2002\\r\\n            </td>\\r\\n            <td style=\"border: 1px solid\">\\r\\n                To&#225;n:   6.60   Ng\\xe1\\xbb\\xaf v\\xc4\\x83n:   6.25   L\\xe1\\xbb\\x8bch s\\xe1\\xbb\\xad:   5.75   \\xc4\\x90\\xe1\\xbb\\x8ba l&#237;:   7.00   GDCD:   7.25   KHXH: 6.67   Ti\\xe1\\xba\\xbfng Anh:   5.20   \\r\\n            </td>\\r\\n\\r\\n        </tr>\\r\\n\\r\\n    </table>\\r\\n\\r\\n\\r\\n\\r\\n<br />\\r\\n\\r\\n\\r\\n\\n        <br />\\n        \\r\\n  \\r\\n</div>\\n  \\n   \\n    \\n</body>\\n</html>\\n'\n"
     ]
    }
   ],
   "source": [
    "#Use subprocess to axecute curl command and save result in a variable\n",
    "import subprocess\n",
    "result = subprocess.check_output('curl -F \"sobaodanh=02000001\" diemthi.hcm.edu.vn/Home/Show')\n",
    "print(result)\n"
   ]
  },
  {
   "cell_type": "code",
   "execution_count": 14,
   "metadata": {},
   "outputs": [
    {
     "data": {
      "text/plain": [
       "8"
      ]
     },
     "execution_count": 14,
     "metadata": {},
     "output_type": "execute_result"
    }
   ],
   "source": [
    "#Create a txt file in the folder Im in\n",
    "# file = open(\"data.txt\", \"w\")\n",
    "\n",
    "# file.write(\"Cuonghv\\n\")\n",
    "# file.write(\"Cuonghv1\\n\")\n",
    "# file.write(\"Cuonghv2\")#Write the content to that txt file"
   ]
  },
  {
   "cell_type": "code",
   "execution_count": 22,
   "metadata": {},
   "outputs": [],
   "source": [
    "# def add_number():\n",
    "#     file = open(\"data.txt\", \"w\") #Mode write, viet de` len file\n",
    "#     for i in range(10):\n",
    "#         file.write(str(i) + \"\\n\")\n",
    "        \n",
    "# add_number()\n"
   ]
  },
  {
   "cell_type": "code",
   "execution_count": 17,
   "metadata": {},
   "outputs": [],
   "source": [
    "# def add_number1():\n",
    "#     file = open(\"data.txt\", \"a\") #Mode append, write at the end\n",
    "#     for i in range(10):\n",
    "#         file.write(str(i) + \"\\n\")\n",
    "        \n",
    "# add_number1()\n"
   ]
  },
  {
   "cell_type": "code",
   "execution_count": 31,
   "metadata": {},
   "outputs": [
    {
     "name": "stdout",
     "output_type": "stream",
     "text": [
      "['0', '1', '2', '3', '4', '5', '6', '7', '8', '9']\n",
      "0\n",
      "1\n",
      "2\n",
      "3\n",
      "4\n",
      "5\n",
      "6\n",
      "7\n",
      "8\n",
      "9\n",
      "\n"
     ]
    }
   ],
   "source": [
    "# #How to read the txt file\n",
    "# file = open(\"data.txt\", \"r\")\n",
    "# line = file.read().split(\"\\n\")\n",
    "# print(line[:-1])\n",
    "# for i in range(len(line)):\n",
    "#     print(line[i])"
   ]
  },
  {
   "cell_type": "markdown",
   "metadata": {},
   "source": [
    "# Using loop to craw all data from the website and create file named raw_data.txt"
   ]
  },
  {
   "cell_type": "code",
   "execution_count": null,
   "metadata": {},
   "outputs": [],
   "source": [
    "# import subprocess\n",
    "# result = subprocess.check_output('curl -F \"sobaodanh=02000001\" diemthi.hcm.edu.vn/Home/Show')\n",
    "\n",
    "# start = 2000001\n",
    "# end = 2074718\n",
    "\n",
    "\n",
    "# file = open(\"raw_data.txt\", \"w\")\n",
    "# for sbd in range(start, end + 1):\n",
    "#     command = 'curl -F \"sobaodanh=0' + str(sbd) + '\" diemthi.hcm.edu.vn/Home/Show'\n",
    "#     result = subprocess.check_output(command)\n",
    "#     file.write(str(result) + '\\n')"
   ]
  },
  {
   "cell_type": "code",
   "execution_count": 3,
   "metadata": {},
   "outputs": [],
   "source": [
    "import csv\n",
    "#Read first student\n",
    "with open('raw_data.txt', 'r') as f:\n",
    "  # data = f.readline() #Read first student\n",
    "  database = f.read().split(\"\\n\")\n",
    "\n",
    "#To add header to csv\n",
    "with open('clean_data.csv', encoding='utf8', mode='w', newline=\"\") as file_csv:\n",
    "  header = [\"Registration Number\",\n",
    "            \"Name\",\n",
    "            \"Dob_dd\",\n",
    "            \"Dob_mm\",\n",
    "            \"Dob_yyyy\",\n",
    "            \"Maths\",\n",
    "            \"Literature\",\n",
    "            \"English\",\n",
    "            \"Physics\",\n",
    "            \"Chemistry\",\n",
    "            \"Biology\",\n",
    "            \"History\",\n",
    "            \"Geography\",\n",
    "            \"Civic Education\",\n",
    "            \"Natural Sciences\",\n",
    "            \"Social Sciences\"\n",
    "            ]\n",
    "  writer = csv.writer(file_csv)\n",
    "  writer.writerow(header)\n",
    "#Add sbd to data\n",
    "sbd = 2000000\n",
    "\n",
    "#Make the data becomes a list\n",
    "#There are some sdb with no data, using try except to print out the list of that sbs\n",
    "for data in database:\n",
    "  sbd += 1\n",
    "  if sbd in [2000521,2002776,2002833,2005380,2005472,2005733,2005820,2005876,\n",
    "             2006091,2006300,2006364,2006544,2006712,2006720,2006904,2008746,\n",
    "             2009196,2012503,2019593,2020755,2024536,2027212,2031588,2031948,\n",
    "             2035434,2036693,2042067,2042972,2043577,2044668,2046177,2046483,\n",
    "             2046496,2046651,2046766,2046771,2046788,2046810,2046841,2046998,\n",
    "             2047031,2047122,2047241,2047273,2047304,2047486,2047636,2047834,\n",
    "             2047843,2047856,2047865,2048225,2048271,2048279,2048397,2048424,\n",
    "             2048427,2048592,2048660,2048701,2048723,2048858,2049069,2049090,\n",
    "             2049104,2049164,2049234,2049312,2049383,2049663,2049763,2049775,\n",
    "             2049891,2049971,2050378,2050476,2050488,2050516,2050526,2050540,\n",
    "             2050576,2050642,2050649,2050722,2050809,2050814,2050899,2050959,\n",
    "             2050978,2050984,2050985,2051006,2051072,2051181,2051191,2051234,\n",
    "             2051422,2051468,2051472,2051495,2051615,2051616,2051736,2052013,\n",
    "             2052030,2052089,2052314,2052373,2052591,2052663,2052711,2052791,\n",
    "             2052856,2053000,2053106,2053259,2053593,2053699,2053860,2054235,\n",
    "             2054306,2054374,2054508,2054733,2054787,2055119,2055200,2055290,\n",
    "             2055296,2055606,2055683,2055803,2055829,2055912,2055930,2055986,\n",
    "             2056020,2056032,2056105,2056139,2056186,2056190,2056238,2056273,\n",
    "             2056291,2056298,2056333,2056350,2056377,2056393,2056782,2056823,\n",
    "             2056865,2056871,2057014,2057294,2057410,2057496,2058404,2058498,\n",
    "             2058518,2058789,2058938,2059095,2059163,2059740,2059751,2059769,\n",
    "             2059774,2059807,2059852,2060462,2060492,2060536,2060610,2060652,\n",
    "             2060656,2060660,2060730,2060738,2061813,2062212,2062236,2062391,\n",
    "             2062440,2062898,2063109,2063114,2063179,2063180,2063181,2063207,\n",
    "             2063272,2063653,2063707,2063716,2063752,2063754,2063825,2064369,\n",
    "             2064704,2064783,2064990,2065104,2065323,2065604,2065877,2065995,\n",
    "             2066106,2066212,2066835,2067172,2067291,2067316,2067371,2067383,\n",
    "             2067401,2067446,2067467,2067550,2067563,2067659,2067672,2067698,\n",
    "             2067762,2067909,2067971,2067996,2068089,2068119,2068156,2068174,\n",
    "             2068178,2068243,2068287,2068365,2068382,2068427,2068453,2068548,\n",
    "             2068550,2068627,2068667,2068702,2068732,2068846,2068970,2069028,\n",
    "             2069043,2069066,2069156,2069290,2069362,2069397,2069843,2069990,\n",
    "             2070203,2070870,2071102,2071574,2072480,2072549,2072755,2072823,\n",
    "             2073036,2073372,2073477,2073556,2073964,2074135,2074254,2074281,\n",
    "             2074367,2074607,2074719]:\n",
    "    continue\n",
    "  sbd_str = \"0\" + str(sbd)\n",
    "  data = data.split('\\\\n')\n",
    "    # remove tags\n",
    "  for i in range(len(data)):\n",
    "    # remove \\r and \\t\n",
    "    data[i] = data[i].replace(\"\\\\r\", \"\")\n",
    "    data[i] = data[i].replace(\"\\\\t\", \"\")\n",
    "    # remove tags\n",
    "    tags = []\n",
    "    for j in range(len(data[i])):\n",
    "      if data[i][j] == \"<\":\n",
    "        begin = j\n",
    "      if data[i][j] == \">\":\n",
    "        end = j\n",
    "        tags.append(data[i][begin:end+1])\n",
    "    for tag in tags:\n",
    "      data[i] = data[i].replace(tag, \"\")\n",
    "\n",
    "  # To remove leading empty space\n",
    "  for i in range(len(data)):\n",
    "    data[i] = data[i].strip()\n",
    "\n",
    "  #To remove empty line:\n",
    "  unempty_lines = []\n",
    "  for i in range(len(data)):\n",
    "    if data[i] != \"\":\n",
    "      unempty_lines.append(data[i])\n",
    "  data = unempty_lines\n",
    "\n",
    "  #Choose relevant info\n",
    "  name = data[7]\n",
    "  dob = data[8]\n",
    "  scores = data[9]\n",
    "\n",
    "  #To decode some chars by reading the unicode.txt file\n",
    "  #Create lists of chars and codes \n",
    "  chars = []\n",
    "  codes = []\n",
    "  with open('unicode.txt', encoding=\"utf8\") as f:\n",
    "    unicode_table = f.read().split('\\n')\n",
    "\n",
    "  for code in unicode_table:\n",
    "    x = code.split(\" \")\n",
    "    chars.append(x[0])\n",
    "    codes.append(x[1])\n",
    "\n",
    "  #Replace special char in name and scores\n",
    "  for i in range(len(chars)):\n",
    "    name = name.replace(codes[i], chars[i])\n",
    "    scores = scores.replace(codes[i], chars[i])\n",
    "#   #To decode \n",
    "#   for i in range(len(name)):\n",
    "#     if name[i:i+2] == \"&#\":\n",
    "#       name = name[:i] + chr(int(name[i+2:i+5])) + name[i+6:]\n",
    "\n",
    "#   for i in range(len(scores)):\n",
    "#     if scores[i:i+2] == \"&#\":\n",
    "#       scores = scores[:i] + chr(int(scores[i+2:i+5])) + scores[i+6:]\n",
    "\n",
    "#Using html unescape to decode name and scores\n",
    "\n",
    "  name = html.unescape(name)\n",
    "  scores = html.unescape(scores)\n",
    "\n",
    "  #Change name to capitalize each words\n",
    "  name = name.title()\n",
    "  scores = scores.title()\n",
    "\n",
    "  #Split DOB to change the dob to dd, mm, yy\n",
    "  dob_list = dob.split('/')\n",
    "  dob_list\n",
    "  dd = int(dob_list[0])\n",
    "  mm = int(dob_list[1])\n",
    "  yy = int(dob_list[2])\n",
    "\n",
    "\n",
    "  #Remove the colon in scores\n",
    "  scores = scores.replace(':', '')\n",
    "\n",
    "  #To take the scores and append to data\n",
    "  scores = scores.replace('Khxh ', 'Khxh   ')\n",
    "  scores = scores.replace('Khtn ', 'Khtn   ')\n",
    "  scores = scores.replace(\" 10\", \"  10\")\n",
    "\n",
    "  scores_list = scores.split(\"   \")\n",
    "  data = [sbd_str, name, str(dd), str(mm), str(yy)]\n",
    "\n",
    "\n",
    "  #Add score to data\n",
    "  for subject in ['Toán', 'Ngữ Văn', 'Tiếng Anh', 'Vật Lý', 'Hóa Học', 'Sinh Học', 'Lịch Sử', 'Địa Lí', 'Gdcd', 'Khtn', 'Khxh']:\n",
    "    if subject in scores_list:\n",
    "      data.append(str(float(scores_list[scores_list.index(subject) + 1])))\n",
    "    else:\n",
    "      data.append(\"-1\")\n",
    "\n",
    "  #TO wirte the result in a new test.txt file\n",
    "    # file = open(\"test.txt\", encoding=\"utf8\", modfe='a')\n",
    "    # for i in range(len(data)):\n",
    "    #   file_data.write(data[i] + ',')\n",
    "    # file_data.write('\\n')\n",
    "  with open('clean_data.csv', 'a', encoding='utf8', newline='') as file_csv:\n",
    "    writer = csv.writer(file_csv)\n",
    "    writer.writerow(data)"
   ]
  },
  {
   "cell_type": "code",
   "execution_count": 1,
   "metadata": {},
   "outputs": [],
   "source": [
    "# for i in range(len(data)):\n",
    "#     data[i] = data[i].replace(\"\\\\r\", \"\")\n",
    "#     data[i] = data[i].replace(\"\\\\t\", \"\")\n",
    "# data"
   ]
  },
  {
   "cell_type": "code",
   "execution_count": 2,
   "metadata": {
    "scrolled": true
   },
   "outputs": [],
   "source": [
    "\n",
    "# # remove \\r and \\t\n",
    "# # remove tags\n",
    "# for i in range(len(data)):\n",
    "#       #to remove '\\r' and '\\t'\n",
    "#     data[i] = data[i].replace('\\\\r', '')\n",
    "#     data[i] = data[i].replace('\\\\t', '')\n",
    "#   #To remove tags\n",
    "#     tags = []\n",
    "#     for j in range(len(data[i])):\n",
    "#         if data[i][j] == \"<\":\n",
    "#             begin = j\n",
    "#         if data[i][j] == \">\":\n",
    "#             end = j\n",
    "#             tags.append(data[i][begin:end+1])\n",
    "\n",
    "#     for tag in tags:\n",
    "#         data[i] = data[i].replace(tag, \"\")\n",
    "# data"
   ]
  },
  {
   "cell_type": "code",
   "execution_count": 3,
   "metadata": {},
   "outputs": [],
   "source": [
    "# # write data to test.txt\n",
    "# with open(\"test.txt\", \"w\") as f:\n",
    "#     for i in range(len(data)):\n",
    "#         f.write(data[i] + \"\\n\")"
   ]
  },
  {
   "cell_type": "code",
   "execution_count": 5,
   "metadata": {},
   "outputs": [
    {
     "ename": "TypeError",
     "evalue": "a bytes-like object is required, not 'str'",
     "output_type": "error",
     "traceback": [
      "\u001b[1;31m---------------------------------------------------------------------------\u001b[0m",
      "\u001b[1;31mTypeError\u001b[0m                                 Traceback (most recent call last)",
      "\u001b[1;32m<ipython-input-5-210d8835e8d2>\u001b[0m in \u001b[0;36m<module>\u001b[1;34m\u001b[0m\n\u001b[0;32m      1\u001b[0m \u001b[1;32mimport\u001b[0m \u001b[0mhtml\u001b[0m\u001b[1;33m\u001b[0m\u001b[1;33m\u001b[0m\u001b[0m\n\u001b[0;32m      2\u001b[0m \u001b[1;33m\u001b[0m\u001b[0m\n\u001b[1;32m----> 3\u001b[1;33m \u001b[0mtemp\u001b[0m \u001b[1;33m=\u001b[0m \u001b[0mhtml\u001b[0m\u001b[1;33m.\u001b[0m\u001b[0mescape\u001b[0m\u001b[1;33m(\u001b[0m\u001b[0mresult\u001b[0m\u001b[1;33m)\u001b[0m\u001b[1;33m\u001b[0m\u001b[1;33m\u001b[0m\u001b[0m\n\u001b[0m\u001b[0;32m      4\u001b[0m \u001b[0ma\u001b[0m \u001b[1;33m=\u001b[0m \u001b[0mhtml\u001b[0m\u001b[1;33m.\u001b[0m\u001b[0munescape\u001b[0m\u001b[1;33m(\u001b[0m\u001b[0mtemp\u001b[0m\u001b[1;33m)\u001b[0m\u001b[1;33m\u001b[0m\u001b[1;33m\u001b[0m\u001b[0m\n\u001b[0;32m      5\u001b[0m \u001b[0ma\u001b[0m\u001b[1;33m\u001b[0m\u001b[1;33m\u001b[0m\u001b[0m\n",
      "\u001b[1;32m~\\anaconda3\\lib\\html\\__init__.py\u001b[0m in \u001b[0;36mescape\u001b[1;34m(s, quote)\u001b[0m\n\u001b[0;32m     17\u001b[0m     \u001b[0mtranslated\u001b[0m\u001b[1;33m.\u001b[0m\u001b[1;33m\u001b[0m\u001b[1;33m\u001b[0m\u001b[0m\n\u001b[0;32m     18\u001b[0m     \"\"\"\n\u001b[1;32m---> 19\u001b[1;33m     \u001b[0ms\u001b[0m \u001b[1;33m=\u001b[0m \u001b[0ms\u001b[0m\u001b[1;33m.\u001b[0m\u001b[0mreplace\u001b[0m\u001b[1;33m(\u001b[0m\u001b[1;34m\"&\"\u001b[0m\u001b[1;33m,\u001b[0m \u001b[1;34m\"&amp;\"\u001b[0m\u001b[1;33m)\u001b[0m \u001b[1;31m# Must be done first!\u001b[0m\u001b[1;33m\u001b[0m\u001b[1;33m\u001b[0m\u001b[0m\n\u001b[0m\u001b[0;32m     20\u001b[0m     \u001b[0ms\u001b[0m \u001b[1;33m=\u001b[0m \u001b[0ms\u001b[0m\u001b[1;33m.\u001b[0m\u001b[0mreplace\u001b[0m\u001b[1;33m(\u001b[0m\u001b[1;34m\"<\"\u001b[0m\u001b[1;33m,\u001b[0m \u001b[1;34m\"&lt;\"\u001b[0m\u001b[1;33m)\u001b[0m\u001b[1;33m\u001b[0m\u001b[1;33m\u001b[0m\u001b[0m\n\u001b[0;32m     21\u001b[0m     \u001b[0ms\u001b[0m \u001b[1;33m=\u001b[0m \u001b[0ms\u001b[0m\u001b[1;33m.\u001b[0m\u001b[0mreplace\u001b[0m\u001b[1;33m(\u001b[0m\u001b[1;34m\">\"\u001b[0m\u001b[1;33m,\u001b[0m \u001b[1;34m\"&gt;\"\u001b[0m\u001b[1;33m)\u001b[0m\u001b[1;33m\u001b[0m\u001b[1;33m\u001b[0m\u001b[0m\n",
      "\u001b[1;31mTypeError\u001b[0m: a bytes-like object is required, not 'str'"
     ]
    }
   ],
   "source": []
  },
  {
   "cell_type": "code",
   "execution_count": 22,
   "metadata": {},
   "outputs": [
    {
     "data": {
      "text/plain": [
       "'PHáº\\xa0M HOÀNG HÆ¯Æ\\xa0NG ÁI'"
      ]
     },
     "execution_count": 22,
     "metadata": {},
     "output_type": "execute_result"
    }
   ],
   "source": [
    "import html\n",
    "html.unescape('PH\\xe1\\xba\\xa0M HO&#192;NG H\\xc6\\xaf\\xc6\\xa0NG &#193;I')\n",
    "# 'Suzy & John'  \n",
    "\n",
    "# html.unescape('O&#39;SULLIVAN XU&#194;N MAI')"
   ]
  },
  {
   "cell_type": "code",
   "execution_count": null,
   "metadata": {},
   "outputs": [],
   "source": []
  }
 ],
 "metadata": {
  "kernelspec": {
   "display_name": "Python 3",
   "language": "python",
   "name": "python3"
  },
  "language_info": {
   "codemirror_mode": {
    "name": "ipython",
    "version": 3
   },
   "file_extension": ".py",
   "mimetype": "text/x-python",
   "name": "python",
   "nbconvert_exporter": "python",
   "pygments_lexer": "ipython3",
   "version": "3.8.3"
  }
 },
 "nbformat": 4,
 "nbformat_minor": 4
}
